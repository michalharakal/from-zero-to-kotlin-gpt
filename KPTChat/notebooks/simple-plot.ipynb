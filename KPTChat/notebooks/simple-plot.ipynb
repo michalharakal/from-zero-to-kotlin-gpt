{
 "cells": [
  {
   "cell_type": "code",
   "outputs": [],
   "source": [
    "%use kandy\n",
    "%use dataframe"
   ],
   "metadata": {
    "collapsed": false,
    "ExecuteTime": {
     "end_time": "2024-03-30T09:16:31.530766Z",
     "start_time": "2024-03-30T09:16:11.008722Z"
    }
   },
   "execution_count": 1
  },
  {
   "cell_type": "code",
   "execution_count": 3,
   "metadata": {
    "collapsed": true,
    "ExecuteTime": {
     "end_time": "2024-03-30T09:16:49.542439Z",
     "start_time": "2024-03-30T09:16:49.354891Z"
    }
   },
   "outputs": [
    {
     "data": {
      "text/html": "            <iframe src='about:blank' style='border:none !important;' width='600' height='400' srcdoc=\"&lt;html lang=&quot;en&quot;>\n   &lt;head>\n       &lt;style> html, body { margin: 0; overflow: hidden; } &lt;/style>\n       &lt;script type=&quot;text/javascript&quot; data-lets-plot-script=&quot;library&quot; src=&quot;https://cdn.jsdelivr.net/gh/JetBrains/lets-plot@v4.0.1/js-package/distr/lets-plot.min.js&quot;>&lt;/script>\n   &lt;/head>\n   &lt;body>\n          &lt;div id=&quot;xDJ1PR&quot;>&lt;/div>\n   &lt;script type=&quot;text/javascript&quot; data-lets-plot-script=&quot;plot&quot;>\n       var plotSpec={\n&quot;mapping&quot;:{\n},\n&quot;data&quot;:{\n&quot;cost&quot;:[62.7,64.7,72.1,73.7,68.5],\n&quot;years&quot;:[&quot;2018&quot;,&quot;2019&quot;,&quot;2020&quot;,&quot;2021&quot;,&quot;2022&quot;]\n},\n&quot;kind&quot;:&quot;plot&quot;,\n&quot;scales&quot;:[{\n&quot;aesthetic&quot;:&quot;x&quot;,\n&quot;discrete&quot;:true\n},{\n&quot;aesthetic&quot;:&quot;y&quot;,\n&quot;limits&quot;:[null,null]\n}],\n&quot;layers&quot;:[{\n&quot;mapping&quot;:{\n&quot;x&quot;:&quot;years&quot;,\n&quot;y&quot;:&quot;cost&quot;\n},\n&quot;stat&quot;:&quot;identity&quot;,\n&quot;sampling&quot;:&quot;none&quot;,\n&quot;position&quot;:&quot;identity&quot;,\n&quot;geom&quot;:&quot;line&quot;,\n&quot;data&quot;:{\n}\n}]\n};\n       var plotContainer = document.getElementById(&quot;xDJ1PR&quot;);\n       LetsPlot.buildPlotFromProcessedSpecs(plotSpec, -1, -1, plotContainer);\n   &lt;/script>\n   &lt;/body>\n&lt;/html>\"></iframe>            <svg xmlns=\"http://www.w3.org/2000/svg\" xmlns:xlink=\"http://www.w3.org/1999/xlink\" class=\"plt-container\" id=d111b71b-8f4f-4762-a84e-2977c4e696ff width=\"100%\" height=\"100%\" style=\"max-width: 600.0px; max-height: 400.0px;\" viewBox=\"0 0 600.0 400.0\" preserveAspectRatio=\"xMinYMin meet\">\n  <style type=\"text/css\">\n  .plt-container {\n   font-family: Lucida Grande, sans-serif;\n   user-select: none;\n   -webkit-user-select: none;\n   -moz-user-select: none;\n   -ms-user-select: none;\n}\ntext {\n   text-rendering: optimizeLegibility;\n}\n#ptMBNzD .plot-title {\n   fill: #474747;\n   font-family: Lucida Grande, sans-serif;\n   font-size: 16.0px;\n   font-weight: normal;\n   font-style: normal;   \n}\n#ptMBNzD .plot-subtitle {\n   fill: #474747;\n   font-family: Lucida Grande, sans-serif;\n   font-size: 15.0px;\n   font-weight: normal;\n   font-style: normal;   \n}\n#ptMBNzD .plot-caption {\n   fill: #474747;\n   font-family: Lucida Grande, sans-serif;\n   font-size: 13.0px;\n   font-weight: normal;\n   font-style: normal;   \n}\n#ptMBNzD .legend-title {\n   fill: #474747;\n   font-family: Lucida Grande, sans-serif;\n   font-size: 15.0px;\n   font-weight: normal;\n   font-style: normal;   \n}\n#ptMBNzD .legend-item {\n   fill: #474747;\n   font-family: Lucida Grande, sans-serif;\n   font-size: 13.0px;\n   font-weight: normal;\n   font-style: normal;   \n}\n#ptMBNzD .axis-title-x {\n   fill: #474747;\n   font-family: Lucida Grande, sans-serif;\n   font-size: 15.0px;\n   font-weight: normal;\n   font-style: normal;   \n}\n#ptMBNzD .axis-text-x {\n   fill: #474747;\n   font-family: Lucida Grande, sans-serif;\n   font-size: 13.0px;\n   font-weight: normal;\n   font-style: normal;   \n}\n#dbxz3EE .axis-tooltip-text-x {\n   fill: #ffffff;\n   font-family: Lucida Grande, sans-serif;\n   font-size: 13.0px;\n   font-weight: normal;\n   font-style: normal;   \n}\n#ptMBNzD .axis-title-y {\n   fill: #474747;\n   font-family: Lucida Grande, sans-serif;\n   font-size: 15.0px;\n   font-weight: normal;\n   font-style: normal;   \n}\n#ptMBNzD .axis-text-y {\n   fill: #474747;\n   font-family: Lucida Grande, sans-serif;\n   font-size: 13.0px;\n   font-weight: normal;\n   font-style: normal;   \n}\n#dbxz3EE .axis-tooltip-text-y {\n   fill: #ffffff;\n   font-family: Lucida Grande, sans-serif;\n   font-size: 13.0px;\n   font-weight: normal;\n   font-style: normal;   \n}\n#ptMBNzD .facet-strip-text-x {\n   fill: #474747;\n   font-family: Lucida Grande, sans-serif;\n   font-size: 13.0px;\n   font-weight: normal;\n   font-style: normal;   \n}\n#ptMBNzD .facet-strip-text-y {\n   fill: #474747;\n   font-family: Lucida Grande, sans-serif;\n   font-size: 13.0px;\n   font-weight: normal;\n   font-style: normal;   \n}\n#dbxz3EE .tooltip-text {\n   fill: #474747;\n   font-family: Lucida Grande, sans-serif;\n   font-size: 13.0px;\n   font-weight: normal;\n   font-style: normal;   \n}\n#dbxz3EE .tooltip-title {\n   fill: #474747;\n   font-family: Lucida Grande, sans-serif;\n   font-size: 13.0px;\n   font-weight: bold;\n   font-style: normal;   \n}\n#dbxz3EE .tooltip-label {\n   fill: #474747;\n   font-family: Lucida Grande, sans-serif;\n   font-size: 13.0px;\n   font-weight: bold;\n   font-style: normal;   \n}\n\n  </style>\n  <g id=\"ptMBNzD\">\n    <path fill-rule=\"evenodd\" fill=\"rgb(255,255,255)\" fill-opacity=\"1.0\" d=\"M0.0 0.0 L0.0 400.0 L600.0 400.0 L600.0 0.0 Z\">\n    </path>\n    <g transform=\"translate(23.0 10.0 ) \">\n      <g transform=\"translate(21.961210910936405 344.0 ) \">\n        <line x1=\"24.774490413139254\" y1=\"-0.0\" x2=\"24.774490413139254\" y2=\"-344.0\" stroke=\"rgb(233,233,233)\" stroke-opacity=\"1.0\" stroke-width=\"1.0\">\n        </line>\n        <line x1=\"148.6469424788355\" y1=\"-0.0\" x2=\"148.6469424788355\" y2=\"-344.0\" stroke=\"rgb(233,233,233)\" stroke-opacity=\"1.0\" stroke-width=\"1.0\">\n        </line>\n        <line x1=\"272.5193945445318\" y1=\"-0.0\" x2=\"272.5193945445318\" y2=\"-344.0\" stroke=\"rgb(233,233,233)\" stroke-opacity=\"1.0\" stroke-width=\"1.0\">\n        </line>\n        <line x1=\"396.391846610228\" y1=\"-0.0\" x2=\"396.391846610228\" y2=\"-344.0\" stroke=\"rgb(233,233,233)\" stroke-opacity=\"1.0\" stroke-width=\"1.0\">\n        </line>\n        <line x1=\"520.2642986759244\" y1=\"-0.0\" x2=\"520.2642986759244\" y2=\"-344.0\" stroke=\"rgb(233,233,233)\" stroke-opacity=\"1.0\" stroke-width=\"1.0\">\n        </line>\n        <g transform=\"translate(24.774490413139254 0.0 ) \">\n          <line stroke-width=\"1.0\" stroke=\"rgb(71,71,71)\" stroke-opacity=\"1.0\" x2=\"0.0\" y2=\"4.0\">\n          </line>\n          <g transform=\"translate(0.0 7.0 ) \">\n            <text class=\"axis-text-x\" text-anchor=\"middle\" dy=\"0.7em\">\n            2018\n            </text>\n          </g>\n        </g>\n        <g transform=\"translate(148.6469424788355 0.0 ) \">\n          <line stroke-width=\"1.0\" stroke=\"rgb(71,71,71)\" stroke-opacity=\"1.0\" x2=\"0.0\" y2=\"4.0\">\n          </line>\n          <g transform=\"translate(0.0 7.0 ) \">\n            <text class=\"axis-text-x\" text-anchor=\"middle\" dy=\"0.7em\">\n            2019\n            </text>\n          </g>\n        </g>\n        <g transform=\"translate(272.5193945445318 0.0 ) \">\n          <line stroke-width=\"1.0\" stroke=\"rgb(71,71,71)\" stroke-opacity=\"1.0\" x2=\"0.0\" y2=\"4.0\">\n          </line>\n          <g transform=\"translate(0.0 7.0 ) \">\n            <text class=\"axis-text-x\" text-anchor=\"middle\" dy=\"0.7em\">\n            2020\n            </text>\n          </g>\n        </g>\n        <g transform=\"translate(396.391846610228 0.0 ) \">\n          <line stroke-width=\"1.0\" stroke=\"rgb(71,71,71)\" stroke-opacity=\"1.0\" x2=\"0.0\" y2=\"4.0\">\n          </line>\n          <g transform=\"translate(0.0 7.0 ) \">\n            <text class=\"axis-text-x\" text-anchor=\"middle\" dy=\"0.7em\">\n            2021\n            </text>\n          </g>\n        </g>\n        <g transform=\"translate(520.2642986759244 0.0 ) \">\n          <line stroke-width=\"1.0\" stroke=\"rgb(71,71,71)\" stroke-opacity=\"1.0\" x2=\"0.0\" y2=\"4.0\">\n          </line>\n          <g transform=\"translate(0.0 7.0 ) \">\n            <text class=\"axis-text-x\" text-anchor=\"middle\" dy=\"0.7em\">\n            2022\n            </text>\n          </g>\n        </g>\n        <line x1=\"0.0\" y1=\"0.0\" x2=\"545.0387890890636\" y2=\"0.0\" stroke-width=\"1.0\" stroke=\"rgb(71,71,71)\" stroke-opacity=\"1.0\">\n        </line>\n      </g>\n      <g transform=\"translate(21.961210910936405 0.0 ) \">\n        <line x1=\"0.0\" y1=\"291.4049586776862\" x2=\"545.0387890890636\" y2=\"291.4049586776862\" stroke=\"rgb(233,233,233)\" stroke-opacity=\"1.0\" stroke-width=\"1.0\">\n        </line>\n        <line x1=\"0.0\" y1=\"234.54545454545473\" x2=\"545.0387890890636\" y2=\"234.54545454545473\" stroke=\"rgb(233,233,233)\" stroke-opacity=\"1.0\" stroke-width=\"1.0\">\n        </line>\n        <line x1=\"0.0\" y1=\"177.68595041322328\" x2=\"545.0387890890636\" y2=\"177.68595041322328\" stroke=\"rgb(233,233,233)\" stroke-opacity=\"1.0\" stroke-width=\"1.0\">\n        </line>\n        <line x1=\"0.0\" y1=\"120.82644628099183\" x2=\"545.0387890890636\" y2=\"120.82644628099183\" stroke=\"rgb(233,233,233)\" stroke-opacity=\"1.0\" stroke-width=\"1.0\">\n        </line>\n        <line x1=\"0.0\" y1=\"63.96694214876038\" x2=\"545.0387890890636\" y2=\"63.96694214876038\" stroke=\"rgb(233,233,233)\" stroke-opacity=\"1.0\" stroke-width=\"1.0\">\n        </line>\n        <line x1=\"0.0\" y1=\"7.107438016529159\" x2=\"545.0387890890636\" y2=\"7.107438016529159\" stroke=\"rgb(233,233,233)\" stroke-opacity=\"1.0\" stroke-width=\"1.0\">\n        </line>\n        <g transform=\"translate(0.0 291.4049586776862 ) \">\n          <g transform=\"translate(-3.0 0.0 ) \">\n            <text class=\"axis-text-y\" text-anchor=\"end\" dy=\"0.35em\">\n            64\n            </text>\n          </g>\n        </g>\n        <g transform=\"translate(0.0 234.54545454545473 ) \">\n          <g transform=\"translate(-3.0 0.0 ) \">\n            <text class=\"axis-text-y\" text-anchor=\"end\" dy=\"0.35em\">\n            66\n            </text>\n          </g>\n        </g>\n        <g transform=\"translate(0.0 177.68595041322328 ) \">\n          <g transform=\"translate(-3.0 0.0 ) \">\n            <text class=\"axis-text-y\" text-anchor=\"end\" dy=\"0.35em\">\n            68\n            </text>\n          </g>\n        </g>\n        <g transform=\"translate(0.0 120.82644628099183 ) \">\n          <g transform=\"translate(-3.0 0.0 ) \">\n            <text class=\"axis-text-y\" text-anchor=\"end\" dy=\"0.35em\">\n            70\n            </text>\n          </g>\n        </g>\n        <g transform=\"translate(0.0 63.96694214876038 ) \">\n          <g transform=\"translate(-3.0 0.0 ) \">\n            <text class=\"axis-text-y\" text-anchor=\"end\" dy=\"0.35em\">\n            72\n            </text>\n          </g>\n        </g>\n        <g transform=\"translate(0.0 7.107438016529159 ) \">\n          <g transform=\"translate(-3.0 0.0 ) \">\n            <text class=\"axis-text-y\" text-anchor=\"end\" dy=\"0.35em\">\n            74\n            </text>\n          </g>\n        </g>\n      </g>\n      <g transform=\"translate(21.961210910936405 0.0 ) \" clip-path=\"url(#c2anY98)\" clip-bounds-jfx=\"[rect (0.0, 0.0), (545.0387890890636, 344.0)]\">\n        <defs>\n          <clipPath id=\"c2anY98\">\n            <rect x=\"0.0\" y=\"0.0\" width=\"545.0387890890636\" height=\"344.0\">\n            </rect>\n          </clipPath>\n        </defs>\n        <g>\n          <path d=\"M24.774490413139254 328.3636363636365 L24.774490413139254 328.3636363636365 L148.6469424788355 271.50413223140504 L272.5193945445318 61.123966942148854 L396.391846610228 15.636363636363512 L520.2642986759244 163.47107438016542 \" fill=\"none\" stroke-width=\"1.6500000000000001\" stroke=\"rgb(71,71,71)\" stroke-opacity=\"1.0\">\n          </path>\n        </g>\n      </g>\n    </g>\n    <g transform=\"translate(14.5 182.0 ) rotate(-90.0 ) \">\n      <text class=\"axis-title-y\" y=\"0.0\" text-anchor=\"middle\">\n      cost\n      </text>\n    </g>\n    <g transform=\"translate(317.4806054554682 391.5 ) \">\n      <text class=\"axis-title-x\" y=\"0.0\" text-anchor=\"middle\">\n      years\n      </text>\n    </g>\n    <path fill=\"rgb(0,0,0)\" fill-opacity=\"0.0\" stroke=\"rgb(71,71,71)\" stroke-opacity=\"1.0\" stroke-width=\"0.0\" d=\"M0.0 0.0 L0.0 400.0 L600.0 400.0 L600.0 0.0 Z\">\n    </path>\n  </g>\n  <g id=\"dbxz3EE\">\n  </g>\n</svg>\n        <script>document.getElementById(\"d111b71b-8f4f-4762-a84e-2977c4e696ff\").style.display = \"none\";</script>",
      "application/plot+json": {
       "output_type": "lets_plot_spec",
       "output": {
        "mapping": {},
        "data": {
         "cost": [
          62.7,
          64.7,
          72.1,
          73.7,
          68.5
         ],
         "years": [
          "2018",
          "2019",
          "2020",
          "2021",
          "2022"
         ]
        },
        "kind": "plot",
        "scales": [
         {
          "aesthetic": "x",
          "discrete": true
         },
         {
          "aesthetic": "y",
          "limits": [
           null,
           null
          ]
         }
        ],
        "layers": [
         {
          "mapping": {
           "x": "years",
           "y": "cost"
          },
          "stat": "identity",
          "sampling": "none",
          "position": "identity",
          "geom": "line"
         }
        ]
       },
       "apply_color_scheme": true,
       "swing_enabled": true
      }
     },
     "execution_count": 3,
     "metadata": {},
     "output_type": "execute_result"
    }
   ],
   "source": [
    "val years by columnOf(\"2018\", \"2019\", \"2020\", \"2021\", \"2022\")\n",
    "val cost by columnOf(62.7, 64.7, 72.1, 73.7, 68.5)\n",
    "val df = dataFrameOf(years, cost)\n",
    "df.plot {\n",
    "    line {\n",
    "        x(years)\n",
    "        y(cost)\n",
    "    }\n",
    "}"
   ]
  },
  {
   "cell_type": "code",
   "outputs": [],
   "source": [],
   "metadata": {
    "collapsed": false
   }
  }
 ],
 "metadata": {
  "kernelspec": {
   "display_name": "Kotlin",
   "language": "kotlin",
   "name": "kotlin"
  },
  "language_info": {
   "name": "kotlin",
   "version": "1.9.0",
   "mimetype": "text/x-kotlin",
   "file_extension": ".kt",
   "pygments_lexer": "kotlin",
   "codemirror_mode": "text/x-kotlin",
   "nbconvert_exporter": ""
  }
 },
 "nbformat": 4,
 "nbformat_minor": 0
}
